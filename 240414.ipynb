{
 "cells": [
  {
   "cell_type": "markdown",
   "metadata": {},
   "source": [
    "주식 백테스트"
   ]
  },
  {
   "cell_type": "code",
   "execution_count": 3,
   "metadata": {},
   "outputs": [],
   "source": [
    "from pykrx import stock\n",
    "import numpy as np"
   ]
  },
  {
   "cell_type": "code",
   "execution_count": 98,
   "metadata": {},
   "outputs": [
    {
     "name": "stderr",
     "output_type": "stream",
     "text": [
      "C:\\Users\\jchoi\\AppData\\Local\\Temp\\ipykernel_38124\\103913776.py:13: SettingWithCopyWarning: \n",
      "A value is trying to be set on a copy of a slice from a DataFrame.\n",
      "Try using .loc[row_indexer,col_indexer] = value instead\n",
      "\n",
      "See the caveats in the documentation: https://pandas.pydata.org/pandas-docs/stable/user_guide/indexing.html#returning-a-view-versus-a-copy\n",
      "  df['ma'] = ma.shift(1)\n",
      "C:\\Users\\jchoi\\AppData\\Local\\Temp\\ipykernel_38124\\103913776.py:16: SettingWithCopyWarning: \n",
      "A value is trying to be set on a copy of a slice from a DataFrame.\n",
      "Try using .loc[row_indexer,col_indexer] = value instead\n",
      "\n",
      "See the caveats in the documentation: https://pandas.pydata.org/pandas-docs/stable/user_guide/indexing.html#returning-a-view-versus-a-copy\n",
      "  df['status'] = np.where(cond, 1, 0)\n",
      "C:\\Users\\jchoi\\AppData\\Local\\Temp\\ipykernel_38124\\103913776.py:21: SettingWithCopyWarning: \n",
      "A value is trying to be set on a copy of a slice from a DataFrame.\n",
      "Try using .loc[row_indexer,col_indexer] = value instead\n",
      "\n",
      "See the caveats in the documentation: https://pandas.pydata.org/pandas-docs/stable/user_guide/indexing.html#returning-a-view-versus-a-copy\n",
      "  df['bs'] = np.where(매수조건, 1, 0)\n",
      "C:\\Users\\jchoi\\AppData\\Local\\Temp\\ipykernel_38124\\103913776.py:22: SettingWithCopyWarning: \n",
      "A value is trying to be set on a copy of a slice from a DataFrame.\n",
      "Try using .loc[row_indexer,col_indexer] = value instead\n",
      "\n",
      "See the caveats in the documentation: https://pandas.pydata.org/pandas-docs/stable/user_guide/indexing.html#returning-a-view-versus-a-copy\n",
      "  df['ss'] = np.where(매도조건, 1, 0)\n"
     ]
    },
    {
     "data": {
      "text/plain": [
       "0     1.059827\n",
       "1     1.056145\n",
       "2     1.052488\n",
       "3     1.050627\n",
       "4     1.032580\n",
       "5     1.035603\n",
       "6     1.055922\n",
       "7     1.044435\n",
       "8     1.035700\n",
       "9     1.061564\n",
       "10    1.062413\n",
       "11    1.055604\n",
       "12    1.054439\n",
       "13    1.049331\n",
       "14    1.038975\n",
       "15    1.035062\n",
       "16    1.039119\n",
       "17    1.034158\n",
       "18    1.095728\n",
       "19    1.085391\n",
       "20    1.091432\n",
       "21    1.083957\n",
       "22    1.093378\n",
       "23    1.084243\n",
       "24    1.077674\n",
       "25    1.058364\n",
       "26    1.120895\n",
       "27    1.115466\n",
       "28    1.144639\n",
       "29    1.130616\n",
       "30    1.158076\n",
       "31    1.095536\n",
       "32    1.125418\n",
       "33    1.124738\n",
       "34    1.136835\n",
       "35    1.149837\n",
       "36    1.130706\n",
       "37    1.128311\n",
       "38    1.120969\n",
       "39    1.111330\n",
       "40    1.255684\n",
       "41    1.250892\n",
       "42    1.220482\n",
       "43    1.197483\n",
       "44    1.202545\n",
       "45    1.205948\n",
       "46    1.311665\n",
       "47    1.284686\n",
       "48    1.294048\n",
       "49    1.300058\n",
       "50    1.330013\n",
       "51    1.320620\n",
       "52    1.464417\n",
       "53    1.543996\n",
       "54    1.520142\n",
       "55    1.593709\n",
       "Name: 종가, dtype: float64"
      ]
     },
     "execution_count": 98,
     "metadata": {},
     "output_type": "execute_result"
    }
   ],
   "source": [
    "#\n",
    "start_year = \"2017\"\n",
    "start_date = start_year+\"0101\"\n",
    "ma_period = 5\n",
    "\n",
    "#\n",
    "end_date = str(int(start_date[:4])+1) + \"1231\"\n",
    "target = '1028'\n",
    "original_df = stock.get_index_ohlcv(start_date, end_date, target)\n",
    "\n",
    "df = original_df[['종가']]\n",
    "ma = df['종가'].rolling(ma_period).mean()\n",
    "df['ma'] = ma.shift(1)\n",
    "\n",
    "cond = df['종가'] > df['ma']\n",
    "df['status'] = np.where(cond, 1, 0)\n",
    "df.iloc[-1, -1] = 0\n",
    "\n",
    "매수조건 = (df['status']==1) & (df['status'].shift(1)==0)\n",
    "매도조건 = (df['status']==0) & (df['status'].shift(1)==1)\n",
    "df['bs'] = np.where(매수조건, 1, 0)\n",
    "df['ss'] = np.where(매도조건, 1, 0)\n",
    "\n",
    "slippage = 0.005\n",
    "수익률 = df.loc[매도조건, '종가'].reset_index(drop=True) / df.loc[매수조건, '종가'].reset_index(drop=True)\n",
    "수익률.apply(lambda x:x-slippage)\n",
    "수익률.cumprod()"
   ]
  },
  {
   "cell_type": "code",
   "execution_count": 97,
   "metadata": {},
   "outputs": [
    {
     "data": {
      "text/plain": [
       "0.31467866311941606"
      ]
     },
     "execution_count": 97,
     "metadata": {},
     "output_type": "execute_result"
    }
   ],
   "source": [
    "(수익률.mean()-1)*수익률.count()"
   ]
  }
 ],
 "metadata": {
  "kernelspec": {
   "display_name": "py311",
   "language": "python",
   "name": "python3"
  },
  "language_info": {
   "codemirror_mode": {
    "name": "ipython",
    "version": 3
   },
   "file_extension": ".py",
   "mimetype": "text/x-python",
   "name": "python",
   "nbconvert_exporter": "python",
   "pygments_lexer": "ipython3",
   "version": "3.11.0"
  }
 },
 "nbformat": 4,
 "nbformat_minor": 2
}
